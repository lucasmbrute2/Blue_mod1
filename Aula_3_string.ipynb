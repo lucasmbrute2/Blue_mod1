{
  "nbformat": 4,
  "nbformat_minor": 0,
  "metadata": {
    "colab": {
      "name": "Aula_3_string",
      "provenance": [],
      "collapsed_sections": [],
      "authorship_tag": "ABX9TyPhn3rTaikTDhS/jKaSctVb",
      "include_colab_link": true
    },
    "kernelspec": {
      "name": "python3",
      "display_name": "Python 3"
    },
    "language_info": {
      "name": "python"
    }
  },
  "cells": [
    {
      "cell_type": "markdown",
      "metadata": {
        "id": "view-in-github",
        "colab_type": "text"
      },
      "source": [
        "<a href=\"https://colab.research.google.com/github/lucasmbrute2/Blue_mod1/blob/main/Aula_3_string.ipynb\" target=\"_parent\"><img src=\"https://colab.research.google.com/assets/colab-badge.svg\" alt=\"Open In Colab\"/></a>"
      ]
    },
    {
      "cell_type": "code",
      "metadata": {
        "colab": {
          "base_uri": "https://localhost:8080/"
        },
        "id": "NIcdSJWg-zzi",
        "outputId": "2befeff3-55cf-4a32-fd3b-69d67c345c4c"
      },
      "source": [
        "var1 = \"sounds é\"\n",
        "var2 = \" o rei da bola\"\n",
        "\n",
        "juncao = var1 + var2\n",
        "print(juncao)\n",
        "\n",
        "frase = input('Digite qualquer coisa: ')\n",
        "\n",
        "print(len(var1)) #len retornará o tamanho da string (número de caracteres que aquela String possui)\n",
        "\n",
        "print(frase.capitalize())\n",
        "print(\"Isso é uma string\".capitalize()) # O comando .capitalize() serve para deixar o primeiro CARACTER,\n",
        " # independente de qualquer for, (podendo ser um espaço) da String maiúscula. Deve ser usado o () independente.\n",
        "\n",
        "print(var1.count(\"a\")) # O comando .count()conta quantas vezes um caractere (ou sequência de caracteres) aparece em uma String\n",
        "\n",
        "print(var1.startswith(\"S\")) # O comando startswith() verifica se a String começa com o que foi definido no argumento e retorna com True ou False\n",
        "print()\n",
        "print(frase)\n",
        "print(frase.upper())  # coloca tudo em maiúsculo.\n",
        "print(frase.lower())  #coloca tudo em minúsculo.\n",
        "print()\n",
        "fraseinput = input('Digite a frase aqui ').upper()\n",
        "print(fraseinput)\n",
        "print()\n",
        "print(frase.title())  # O comando .tittle() retorna em maiúsculo o primeiro caractere de cada palavra.\n",
        "print()\n",
        "print(frase.split()) # O comando .split() transforma cada elemento da string (levando em consideração os espaços) em uma lista.\n",
        "print()\n",
        "print(var1.replace(\"s\", \"x\")) #substitui todos os caracteres passos em S1 pelos passados em S2\n",
        "print()\n",
        "moeda = float(input('Digite o valor em Reais: ' ).replace(\",\",\".\"))\n",
        "print(moeda)\n",
        "print(var1.replace(\"so\",\"lor\"))\n",
        "print()\n",
        "print(var1.strip())     #remove tods os espaços do começo e do final da frase.              \n",
        "\n"
      ],
      "execution_count": 2,
      "outputs": [
        {
          "output_type": "stream",
          "text": [
            "sounds é o rei da bola\n",
            "Digite qualquer coisa: Lucas victor de souza dantas\n",
            "8\n",
            "Lucas victor de souza dantas\n",
            "Isso é uma string\n",
            "0\n",
            "False\n",
            "\n",
            "Lucas victor de souza dantas\n",
            "LUCAS VICTOR DE SOUZA DANTAS\n",
            "lucas victor de souza dantas\n",
            "\n",
            "Digite a frase aqui Lucas victor de souza dantas\n",
            "LUCAS VICTOR DE SOUZA DANTAS\n",
            "\n",
            "Lucas Victor De Souza Dantas\n",
            "\n",
            "['Lucas', 'victor', 'de', 'souza', 'dantas']\n",
            "\n",
            "xoundx é\n",
            "\n",
            "Digite o valor em Reais: 23,23\n",
            "23.23\n",
            "lorunds é\n"
          ],
          "name": "stdout"
        }
      ]
    },
    {
      "cell_type": "code",
      "metadata": {
        "colab": {
          "base_uri": "https://localhost:8080/"
        },
        "id": "uH6ntzdIBbJs",
        "outputId": "9c0a5251-ea6e-42c6-ad04-8672af01bb62"
      },
      "source": [
        "()"
      ],
      "execution_count": 19,
      "outputs": [
        {
          "output_type": "execute_result",
          "data": {
            "text/plain": [
              "()"
            ]
          },
          "metadata": {
            "tags": []
          },
          "execution_count": 19
        }
      ]
    },
    {
      "cell_type": "code",
      "metadata": {
        "id": "VB5MFiJoB2Wj"
      },
      "source": [
        ""
      ],
      "execution_count": null,
      "outputs": []
    }
  ]
}