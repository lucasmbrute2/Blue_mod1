{
  "nbformat": 4,
  "nbformat_minor": 0,
  "metadata": {
    "colab": {
      "name": "Exercicios_while",
      "provenance": [],
      "collapsed_sections": [],
      "authorship_tag": "ABX9TyMMAw+4Zn4c5GZ9HcAQXdqM",
      "include_colab_link": true
    },
    "kernelspec": {
      "name": "python3",
      "display_name": "Python 3"
    },
    "language_info": {
      "name": "python"
    }
  },
  "cells": [
    {
      "cell_type": "markdown",
      "metadata": {
        "id": "view-in-github",
        "colab_type": "text"
      },
      "source": [
        "<a href=\"https://colab.research.google.com/github/lucasmbrute2/Blue_mod1/blob/main/Exercicios_while.ipynb\" target=\"_parent\"><img src=\"https://colab.research.google.com/assets/colab-badge.svg\" alt=\"Open In Colab\"/></a>"
      ]
    },
    {
      "cell_type": "markdown",
      "metadata": {
        "id": "W4aiIDG6u5bJ"
      },
      "source": [
        ""
      ]
    },
    {
      "cell_type": "markdown",
      "metadata": {
        "id": "u8UKCCjBvgUF"
      },
      "source": [
        "**1 - Faça um programa que leia o sexo biológico de uma pessoa, mas só aceite os valores ‘M’ ou ‘F’.\n",
        "Caso esteja errado, peça a digitação novamente até ter um valor correto.**"
      ]
    },
    {
      "cell_type": "code",
      "metadata": {
        "id": "nfXWOBNHvnYw",
        "colab": {
          "base_uri": "https://localhost:8080/"
        },
        "outputId": "0b06e69a-7f2c-48c0-f8d5-37c02493084d"
      },
      "source": [
        "sexo = input(\"Digite o seu sexo aqui:[ F OU M] \").upper()\n",
        "while sexo != \"F\" and sexo != \"M\":\n",
        "  sexo = input(\"Entrada inválida! Digite o seu sexo aqui:[ F OU M] \").upper()\n",
        "print(f\"O sexo digitado foi: {sexo} \")"
      ],
      "execution_count": 1,
      "outputs": [
        {
          "output_type": "stream",
          "text": [
            "Digite o seu sexo aqui:[ F OU M] dalda\n",
            "Entrada inválida! Digite o seu sexo aqui:[ F OU M] dçaçdaç\n",
            "Entrada inválida! Digite o seu sexo aqui:[ F OU M] daçdçaçd\n",
            "Entrada inválida! Digite o seu sexo aqui:[ F OU M] daçdaç\n",
            "Entrada inválida! Digite o seu sexo aqui:[ F OU M] f\n",
            "O sexo digitado foi: F \n"
          ],
          "name": "stdout"
        }
      ]
    },
    {
      "cell_type": "markdown",
      "metadata": {
        "id": "c6ocBttIXG2p"
      },
      "source": [
        "**2 - Escreva um programa que pede a senha uma senha ao usuário, e só sai do loop quando digitarem\n",
        "corretamente a senha. A senha é \"Blue123\"\n",
        "\n",
        "\n",
        "2b - Exiba quantas vezes o usuário errou a digitação.**"
      ]
    },
    {
      "cell_type": "code",
      "metadata": {
        "id": "KKoNk1L4XTGh",
        "colab": {
          "base_uri": "https://localhost:8080/"
        },
        "outputId": "ceff23e4-7184-4266-abdb-f613f0c3d9f6"
      },
      "source": [
        "tentativa = input(\"Digite a senha aqui: \" )\n",
        "senha = \"Blue123\"\n",
        "vezes = 0 \n",
        "while tentativa != senha: \n",
        "  vezes += 1\n",
        "  tentativa = input(f\"Você errou {vezes} vez/vezes. Digite novamente a senha aqui: \" )\n",
        "  if vezes == 5:\n",
        "    print(\"Você errou demais, ficará bloqueado por 5 minutos.\")\n",
        "    break\n",
        "if tentativa == senha:\n",
        "  print(\"Senha correta.\")\n"
      ],
      "execution_count": 4,
      "outputs": [
        {
          "output_type": "stream",
          "text": [
            "Digite a senha aqui: 23\n",
            "Você errou 1 vez/vezes. Digite novamente a senha aqui: aslal\n",
            "Você errou 2 vez/vezes. Digite novamente a senha aqui: lucas\n",
            "Você errou 3 vez/vezes. Digite novamente a senha aqui: blue12\n",
            "Você errou 4 vez/vezes. Digite novamente a senha aqui: blu13\n",
            "Você errou 5 vez/vezes. Digite novamente a senha aqui: blue132\n",
            "Você errou demais, ficará bloqueado por 5 minutos.\n"
          ],
          "name": "stdout"
        }
      ]
    },
    {
      "cell_type": "markdown",
      "metadata": {
        "id": "ESadnygR0iL2"
      },
      "source": [
        "3 - Crie um programa que leia a idade e o sexo de várias pessoas. A cada pessoa \n",
        "cadastrada, o programa deverá perguntar se o usuário quer ou não continuar. No \n",
        "final, mostre:\n",
        "\n",
        "A) Quantas pessoas tem mais de 18 anos.\n",
        "\n",
        "B) Quantos homens foram cadastrados.\n",
        "\n",
        "C) Quantas mulheres tem menos de 20 anos.\n"
      ]
    },
    {
      "cell_type": "code",
      "metadata": {
        "colab": {
          "base_uri": "https://localhost:8080/"
        },
        "id": "MQC16d4xRi4H",
        "outputId": "a4008b48-beca-4df7-adbf-8652a90af768"
      },
      "source": [
        "idade19 = 0\n",
        "homem = 0\n",
        "mulheres_under20 =0\n",
        "\n",
        "while True:\n",
        "  if mulheres_under20 == 3:\n",
        "    break\n",
        "  print()\n",
        "  sexo = input(\"Digite aqui o seu sexo: [ M / F ] \")\n",
        "  idade = int(input(\"Digite aqui a sua idade: \"))\n",
        "  continuar = input(\"Você quer continuar? \")\n",
        "  \n",
        "\n",
        "  if continuar.upper() != \"SIM\":\n",
        "    print()\n",
        "    print(\"Obrigado por participar!\")\n",
        "  \n",
        "\n",
        "  elif sexo.upper().replace(\"masculino\" , \"M\") == \"M\":\n",
        "    homem += 1\n",
        "  if idade >= 19:\n",
        "    idade19 += 1\n",
        "  \n",
        "  if sexo.upper().replace(\"masculino\" , \"M\") != \"M\" and idade < 20:\n",
        "    mulheres_under20 += 1\n",
        "  if mulheres_under20 == 3: \n",
        "    print()\n",
        "    print(f\"{idade19} pessoa(s) tem mais de 18 anos.\\n\")\n",
        "    print(f\"Foram cadastrados {homem} homen(s).\\n\")\n",
        "    print(f\"{mulheres_under20} mulhere(s) tem menos de 20 anos.\\n\")\n"
      ],
      "execution_count": 31,
      "outputs": [
        {
          "output_type": "stream",
          "text": [
            "\n",
            "Digite aqui o seu sexo: [ M / F ] m\n",
            "Digite aqui a sua idade: 22\n",
            "Você quer continuar? sim\n",
            "\n",
            "Digite aqui o seu sexo: [ M / F ] f\n",
            "Digite aqui a sua idade: 20\n",
            "Você quer continuar? nao\n",
            "\n",
            "Obrigado por participar!\n",
            "\n",
            "Digite aqui o seu sexo: [ M / F ] f\n",
            "Digite aqui a sua idade: 19\n",
            "Você quer continuar? nao\n",
            "\n",
            "Obrigado por participar!\n",
            "\n",
            "Digite aqui o seu sexo: [ M / F ] m\n",
            "Digite aqui a sua idade: 10\n",
            "Você quer continuar? sim\n",
            "\n",
            "Digite aqui o seu sexo: [ M / F ] f\n",
            "Digite aqui a sua idade: 67\n",
            "Você quer continuar? sim\n",
            "\n",
            "Digite aqui o seu sexo: [ M / F ] f\n",
            "Digite aqui a sua idade: 21\n",
            "Você quer continuar? nao\n",
            "\n",
            "Obrigado por participar!\n",
            "\n",
            "Digite aqui o seu sexo: [ M / F ] m\n",
            "Digite aqui a sua idade: 6\n",
            "Você quer continuar? sim\n",
            "\n",
            "Digite aqui o seu sexo: [ M / F ] f\n",
            "Digite aqui a sua idade: 19\n",
            "Você quer continuar? sim\n",
            "\n",
            "Digite aqui o seu sexo: [ M / F ] f\n",
            "Digite aqui a sua idade: 19\n",
            "Você quer continuar? nao\n",
            "\n",
            "Obrigado por participar!\n",
            "\n",
            "7 pessoa(s) tem mais de 18 anos.\n",
            "\n",
            "Foram cadastrados 3 homen(s).\n",
            "\n",
            "3 mulhere(s) tem menos de 20 anos.\n",
            "\n"
          ],
          "name": "stdout"
        }
      ]
    },
    {
      "cell_type": "code",
      "metadata": {
        "id": "8MpLgisXR9m1"
      },
      "source": [
        ""
      ],
      "execution_count": null,
      "outputs": []
    }
  ]
}