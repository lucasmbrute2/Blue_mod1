{
  "nbformat": 4,
  "nbformat_minor": 0,
  "metadata": {
    "colab": {
      "name": "Estudo_aula_3_condicionais",
      "provenance": [],
      "collapsed_sections": [],
      "authorship_tag": "ABX9TyP2zdEud3Xma95rkcqVIBig",
      "include_colab_link": true
    },
    "kernelspec": {
      "name": "python3",
      "display_name": "Python 3"
    },
    "language_info": {
      "name": "python"
    }
  },
  "cells": [
    {
      "cell_type": "markdown",
      "metadata": {
        "id": "view-in-github",
        "colab_type": "text"
      },
      "source": [
        "<a href=\"https://colab.research.google.com/github/lucasmbrute2/Blue_mod1/blob/main/Estudo_aula_3_condicionais.ipynb\" target=\"_parent\"><img src=\"https://colab.research.google.com/assets/colab-badge.svg\" alt=\"Open In Colab\"/></a>"
      ]
    },
    {
      "cell_type": "code",
      "metadata": {
        "colab": {
          "base_uri": "https://localhost:8080/"
        },
        "id": "ksP8RQK_agM9",
        "outputId": "62d44a3a-c44c-46c0-828f-805d12c57298"
      },
      "source": [
        "num1 = int(input('Digite um número: '))\n",
        "num2 = int(input('Digite outro número: '))\n",
        "\n",
        "if num1 > num2:\n",
        "  print(\"o primeiro valor é maior\")   #indentação em Python é necessária.\n",
        "  print('A matématica ainda está correta.')\n",
        "\n",
        "else: \n",
        "  print('O segundo valor é maior')\n",
        "print('Fim do programa.')\n"
      ],
      "execution_count": 6,
      "outputs": [
        {
          "output_type": "stream",
          "text": [
            "Digite um número: 10\n",
            "Digite outro número: 10\n",
            "O segundo valor é maior\n",
            "Fim do programa.\n"
          ],
          "name": "stdout"
        }
      ]
    },
    {
      "cell_type": "code",
      "metadata": {
        "id": "-YEYR4ECdhbd",
        "colab": {
          "base_uri": "https://localhost:8080/"
        },
        "outputId": "e02b27e5-5d21-4d7b-e13b-7fcbfd53a626"
      },
      "source": [
        "# Se fizer sol, eu vou correr. Senão, eu vou fazer Yoga. Depois vou fazer compras.\n",
        "\n",
        "num1 = int(input('Digite um número:'))\n",
        "num2 = int(input('Digite outro número: '))\n",
        "\n",
        "if num1 > num2:\n",
        "  print('O primeiro valor é maior')\n",
        "elif num1 < num2:  #Else if\n",
        "  print('O segundo valor é maior')\n",
        "else:\n",
        "  print('Os dois são iguais')\n",
        "\n"
      ],
      "execution_count": 14,
      "outputs": [
        {
          "output_type": "stream",
          "text": [
            "Digite um número:10\n",
            "Digite outro número: 10\n",
            "Os dois são iguais\n"
          ],
          "name": "stdout"
        }
      ]
    },
    {
      "cell_type": "code",
      "metadata": {
        "colab": {
          "base_uri": "https://localhost:8080/"
        },
        "id": "2nBe37QdDj5F",
        "outputId": "2bf646fe-192e-41e1-a559-014868eb8a4f"
      },
      "source": [
        "resposta = input('Você tem mais de 18 anos? [SIM / NÃO] ')\n",
        "if resposta.upper().strip() == 'SIM':\n",
        "  print(\"Então te pago uma cerveja!\")\n",
        "else:\n",
        "  print('Então te pago uma coca.')\n",
        "\n",
        "  "
      ],
      "execution_count": 43,
      "outputs": [
        {
          "output_type": "stream",
          "text": [
            "Você tem mais de 18 anos? [SIM / NÃO] sim\n",
            "Então te pago uma cerveja!\n"
          ],
          "name": "stdout"
        }
      ]
    },
    {
      "cell_type": "code",
      "metadata": {
        "colab": {
          "base_uri": "https://localhost:8080/"
        },
        "id": "xq1Be9swG5EL",
        "outputId": "e7de173c-750a-4405-86b5-117456046700"
      },
      "source": [
        "resposta = input('Você tem mais de 18 anos? [SIM / NÃO] ')\n",
        "dinheiro = input('Você tem dinheiro? [SIM / NÃO] ')\n",
        "if resposta.upper().strip() == \"SIM\" and dinheiro.upper().strip() == \"SIM\":\n",
        "  print(\"Então me paga uma cerveja!\")\n",
        "elif resposta.upper().strip() == \"SIM\" and dinheiro.upper().strip() == \"NAO\":\n",
        "  print('Então vou te pagar uma cerveja!')\n",
        "elif resposta.upper().strip() == \"NÃO\" or resposta.upper().strip() == \"NAO\": # também poderia ter sido usado o .replace() //Teria ficado assim: elif resposta.upper().strip().replace(\"NAO\", \"NÃO\") == \"NÃO\"\n",
        "  print(\"Então te pago uma coca.\")\n",
        "else:\n",
        "  print(\"Aprende a digitar!\")\n"
      ],
      "execution_count": 20,
      "outputs": [
        {
          "output_type": "stream",
          "text": [
            "Você tem mais de 18 anos? [SIM / NÃO] sim\n",
            "Você tem dinheiro? [SIM / NÃO] nao\n",
            "Então vou te pagar uma cerveja!\n"
          ],
          "name": "stdout"
        }
      ]
    },
    {
      "cell_type": "code",
      "metadata": {
        "id": "eGkrl2BbNuSA"
      },
      "source": [
        ""
      ],
      "execution_count": null,
      "outputs": []
    }
  ]
}