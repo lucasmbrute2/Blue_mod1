{
  "nbformat": 4,
  "nbformat_minor": 0,
  "metadata": {
    "colab": {
      "name": "Desafio_detetive",
      "provenance": [],
      "authorship_tag": "ABX9TyN5BAZCTNxatww0xzm12krz",
      "include_colab_link": true
    },
    "kernelspec": {
      "name": "python3",
      "display_name": "Python 3"
    },
    "language_info": {
      "name": "python"
    }
  },
  "cells": [
    {
      "cell_type": "markdown",
      "metadata": {
        "id": "view-in-github",
        "colab_type": "text"
      },
      "source": [
        "<a href=\"https://colab.research.google.com/github/lucasmbrute2/Blue_mod1/blob/main/Desafio_detetive.ipynb\" target=\"_parent\"><img src=\"https://colab.research.google.com/assets/colab-badge.svg\" alt=\"Open In Colab\"/></a>"
      ]
    },
    {
      "cell_type": "markdown",
      "metadata": {
        "id": "IsujAHdjgz-o"
      },
      "source": [
        "Projeto 01 – Detetive\n",
        "\n",
        "Esse projeto tem a finalidade de fixar os conhecimentos de Variáveis, Print, Input e Condicionais, para isso crie um programa que faça 5 perguntas para uma \n",
        "pessoa sobre um crime. As perguntas são:\n",
        "\n",
        "• \"Você telefonou para a vítima?\"\n",
        "\n",
        "• \" Você esteve no local do crime?\"\n",
        "\n",
        "• \" Você mora perto da vítima?\"\n",
        "\n",
        "• \" Você devia para a vítima?\"\n",
        "\n",
        "• \" Você já trabalhou com a vítima?\" \n",
        "\n",
        "O programa deve, no final, emitir uma classificação sobre a participação da \n",
        "pessoa no crime.\n",
        "\n",
        "Se a pessoa responder positivamente a:\n",
        "\n",
        "• 2 questões ela deve ser classificada como \"Suspeita\",\n",
        "\n",
        "• Entre 3 e 4 como \"Cúmplice\"\n",
        "\n",
        "• 5 como \"Assassino\". \n",
        "\n",
        "• Caso contrário, ele será classificado como \"Inocente\"."
      ]
    },
    {
      "cell_type": "code",
      "metadata": {
        "colab": {
          "base_uri": "https://localhost:8080/"
        },
        "id": "ICJF_0KPKRiD",
        "outputId": "c8a81105-b772-47a1-d709-1b91bd2b15cf"
      },
      "source": [
        "suspeita = 0\n",
        "\n",
        "telefonou = input('Responda claramente com \"SIM\" ou \"NÃO\": Você telefonou para a vítima? ')\n",
        "local = input('Responda claramente com \"SIM\" ou \"NÃO\": Você esteve no local do crime? ')\n",
        "morava= input('Responda claramente com \"SIM\" ou \"NÃO\": Você morava perto da vítima? ')\n",
        "devia = input('Responda claramente com \"SIM\" ou \"NÃO\": Você devia para a vítima? ')\n",
        "trabalhou = input('Responda claramente com \"SIM\" ou \"NÃO\": Você já trabalhou com a vítima? ')\n",
        "\n",
        "\n",
        "if telefonou.upper() == \"SIM\":\n",
        "  suspeita += 1                #Tentei fazer um sistema de ''while'' em que pedia para repetir a resposta caso não respondesse \"sim\" ou \"não\", dizendo \"pare de gaguejar idiota\", porém não estava conseguindo breakar e tirei kk.\n",
        "  print(\"Pare de gaguejar, idiota!\")\n",
        "if local.upper() == \"SIM\":\n",
        "  suspeita += 1\n",
        "\n",
        "if morava.upper() == \"SIM\":\n",
        "  suspeita += 1\n",
        "\n",
        "if devia.upper() == \"SIM\":\n",
        "  suspeita += 1\n",
        "\n",
        "if trabalhou.upper() == \"SIM\":\n",
        "  suspeita += 1\n",
        "\n",
        "\n",
        "if suspeita == 2:\n",
        "  print()\n",
        "  print(\"Você é suspeito, estamos de olho...\")\n",
        "elif suspeita >= 3 and suspeita <= 4:\n",
        "  print()\n",
        "  print(\"Você é cúmplice!\")\n",
        "elif suspeita >= 5:\n",
        "  print()\n",
        "  print(\"Prendam o assassino! grr\")\n",
        "else:\n",
        "  print()\n",
        "  print(\"Tirem esse palerma daqui, ele é inocente.\")\n",
        "  \n",
        "  "
      ],
      "execution_count": 24,
      "outputs": [
        {
          "output_type": "stream",
          "text": [
            "Responda claramente com \"SIM\" ou \"NÃO\": Você telefonou para a vítima? nao\n",
            "Responda claramente com \"SIM\" ou \"NÃO\": Você esteve no local do crime? nao\n",
            "Responda claramente com \"SIM\" ou \"NÃO\": Você morava perto da vítima? nao\n",
            "Responda claramente com \"SIM\" ou \"NÃO\": Você devia para a vítima? nao\n",
            "Responda claramente com \"SIM\" ou \"NÃO\": Você já trabalhou com a vítima? nao\n",
            "\n",
            "Tirem esse palerma daqui, ele é inocente.\n"
          ],
          "name": "stdout"
        }
      ]
    },
    {
      "cell_type": "code",
      "metadata": {
        "id": "do3gJ6zcKSgn"
      },
      "source": [
        "ns"
      ],
      "execution_count": 28,
      "outputs": []
    }
  ]
}