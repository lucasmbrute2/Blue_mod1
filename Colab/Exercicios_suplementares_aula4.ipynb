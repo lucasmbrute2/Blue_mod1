{
  "nbformat": 4,
  "nbformat_minor": 0,
  "metadata": {
    "colab": {
      "name": "Exercicios_suplementares_aula4",
      "provenance": [],
      "collapsed_sections": [],
      "authorship_tag": "ABX9TyPNMGiXDfO4nA1TKDvKFeSS",
      "include_colab_link": true
    },
    "kernelspec": {
      "name": "python3",
      "display_name": "Python 3"
    },
    "language_info": {
      "name": "python"
    }
  },
  "cells": [
    {
      "cell_type": "markdown",
      "metadata": {
        "id": "view-in-github",
        "colab_type": "text"
      },
      "source": [
        "<a href=\"https://colab.research.google.com/github/lucasmbrute2/Blue_mod1/blob/main/Exercicios_suplementares_aula4.ipynb\" target=\"_parent\"><img src=\"https://colab.research.google.com/assets/colab-badge.svg\" alt=\"Open In Colab\"/></a>"
      ]
    },
    {
      "cell_type": "markdown",
      "metadata": {
        "id": "tMksHL4EFQJo"
      },
      "source": [
        "01 -**Escreva um programa que deve receber o nome completo do usuário e retornar uma saudação com o nome no formato adequado (todas as primeiras letras em maiúsculas)** "
      ]
    },
    {
      "cell_type": "code",
      "metadata": {
        "colab": {
          "base_uri": "https://localhost:8080/"
        },
        "id": "quLR-VNY_y3l",
        "outputId": "fa9bcc54-a806-474b-fbce-fe639a89ccd2"
      },
      "source": [
        " nome = input('Digite o seu nome aqui: ')\n",
        " print(f'Olá, Bem-Vindo(a) {nome.title()}!')\n",
        " print()\n",
        "#ou então\n",
        "#nome = input('Digite o seu nome aqui: ').title()\n",
        "#print(\"Bem-Vindo(a)\", nome +\"!\")"
      ],
      "execution_count": 17,
      "outputs": [
        {
          "output_type": "stream",
          "text": [
            "Digite o seu nome aqui: lucas victor de souza dantas\n",
            "Olá, Bem-Vindo(a) Lucas Victor De Souza Dantas!\n",
            "\n"
          ],
          "name": "stdout"
        }
      ]
    },
    {
      "cell_type": "markdown",
      "metadata": {
        "id": "0tl4Xx9CKHcC"
      },
      "source": [
        "**02- Escreve um programa que receba uma frase e tire seus espaços e a deixe em caixa alta.**"
      ]
    },
    {
      "cell_type": "code",
      "metadata": {
        "colab": {
          "base_uri": "https://localhost:8080/"
        },
        "id": "6X-uMMkiCmkn",
        "outputId": "b1935353-3ed6-42d0-8ec4-1fe1b3a08890"
      },
      "source": [
        "frase = input(\"Digite uma frase: \\n\")\n",
        "print(frase.upper().replace(\" \",\"\"))"
      ],
      "execution_count": 21,
      "outputs": [
        {
          "output_type": "stream",
          "text": [
            "Digite uma frase: \n",
            "eu adoro programar rs \n",
            "EUADOROPROGRAMARRS\n"
          ],
          "name": "stdout"
        }
      ]
    },
    {
      "cell_type": "markdown",
      "metadata": {
        "id": "bzE87ju6IfhR"
      },
      "source": [
        "**03- Faça um programa que solicite a altura e o peso do usuário, e calcule o seu IMC. Os dados entrados precisam ser corrigidos pelo programa (trocar \",\" por \".\" e eliminando os espaços e letras extras.**"
      ]
    },
    {
      "cell_type": "code",
      "metadata": {
        "colab": {
          "base_uri": "https://localhost:8080/"
        },
        "id": "SshUmCCIEof8",
        "outputId": "685aaf79-95de-488a-81ab-a0434836c6ba"
      },
      "source": [
        "altura = float(input('Qual a sua altura?\\nM: ').replace(\",\" , \".\"))\n",
        "peso = float(input(\"Qual o seu peso?\\nKg: \").replace(\",\" , \".\"))\n",
        "imc = peso / (altura**2)\n",
        "print(f\"O seu IMC é: {imc:.1f}\")\n"
      ],
      "execution_count": 26,
      "outputs": [
        {
          "output_type": "stream",
          "text": [
            "Qual a sua altura?\n",
            "M: 1,84\n",
            "Qual o seu peso?\n",
            "Kg: 80\n",
            "O seu IMC é: 23.6\n"
          ],
          "name": "stdout"
        }
      ]
    },
    {
      "cell_type": "code",
      "metadata": {
        "id": "tXn8XOr1HIrx"
      },
      "source": [
        ""
      ],
      "execution_count": null,
      "outputs": []
    }
  ]
}
