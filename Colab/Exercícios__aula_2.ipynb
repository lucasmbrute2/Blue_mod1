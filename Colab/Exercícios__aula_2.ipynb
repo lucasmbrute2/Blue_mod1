{
  "nbformat": 4,
  "nbformat_minor": 0,
  "metadata": {
    "colab": {
      "name": "Exercícios _aula_2",
      "provenance": [],
      "collapsed_sections": [],
      "include_colab_link": true
    },
    "kernelspec": {
      "name": "python3",
      "display_name": "Python 3"
    },
    "language_info": {
      "name": "python"
    }
  },
  "cells": [
    {
      "cell_type": "markdown",
      "metadata": {
        "id": "view-in-github",
        "colab_type": "text"
      },
      "source": [
        "<a href=\"https://colab.research.google.com/github/lucasmbrute2/Blue_mod1/blob/main/Exerc%C3%ADcios__aula_2.ipynb\" target=\"_parent\"><img src=\"https://colab.research.google.com/assets/colab-badge.svg\" alt=\"Open In Colab\"/></a>"
      ]
    },
    {
      "cell_type": "markdown",
      "metadata": {
        "id": "w1T7s2q0p-pt"
      },
      "source": [
        "# Mini projetos"
      ]
    },
    {
      "cell_type": "markdown",
      "metadata": {
        "id": "meUw7PTwqC-Y"
      },
      "source": [
        "## #01 - Conversor de moedas\n",
        "\n",
        "Crie um programa que solicite um um valor em real ao usuário e converta esse valor, para:\n",
        "\n",
        "- DOLAR,\n",
        "- EURO,\n",
        "- LIBRA ESTERLINA,\n",
        "- DÓLAR CANADENSE,\n",
        "- PESO ARGENTINO,\n",
        "- PESO CHILENO.\n",
        "\n",
        "Para esse exercício você precisará realizar uma pesquisa para saber a cotação de cada moeda em real. Mostrar o resultado no formato $ XXXX.XX"
      ]
    },
    {
      "cell_type": "code",
      "metadata": {
        "colab": {
          "base_uri": "https://localhost:8080/"
        },
        "id": "ifnUWP9oQcrL",
        "outputId": "dedc3254-ab7f-4801-c961-538d82299bcf"
      },
      "source": [
        "\n",
        "dolar = 5.04\n",
        "euro = 6.13\n",
        "libra = 7.13\n",
        "dolar_cana = 4.16\n",
        "peso = 0.053\n",
        "peso_chileno = 0.0070\n",
        "\n",
        "\n",
        "valor = float(input('Digite o valor em Reais '))\n",
        "\n",
        "print('Total de ' +str(valor / dolar) + \" dólares\") \n",
        "print('Total de ' +str(valor / peso_chileno) + ' Pesos')\n",
        "print(f'Total de  {(valor / dolar_cana):.2f} dolares canadenses')\n",
        "print(f'Total de {(valor / peso):.2f} Pesos')\n",
        "print(f'Total de {(valor / libra):.2f} Libras')\n",
        "print(f'{(valor)} Reais equivalem a {(valor / euro):.2f} Euros ')\n",
        "\n",
        "\n",
        "\n",
        "\n",
        "\n"
      ],
      "execution_count": null,
      "outputs": [
        {
          "output_type": "stream",
          "text": [
            "Digite o valor em Reais 30\n",
            "Total de 5.9523809523809526 dólares\n",
            "Total de 4285.714285714285 Pesos\n",
            "Total de  7.21 dolares canadenses\n",
            "Total de 566.04 Pesos\n",
            "Total de 4.21 Libras\n",
            "30.0 Reais equivalem a 4.89 Euros \n"
          ],
          "name": "stdout"
        }
      ]
    },
    {
      "cell_type": "code",
      "metadata": {
        "id": "4J5GkTJjY_qc"
      },
      "source": [
        "\n"
      ],
      "execution_count": null,
      "outputs": []
    },
    {
      "cell_type": "markdown",
      "metadata": {
        "id": "KK9PIcJ4qIF9"
      },
      "source": [
        "## #02 - Calculadora de aumento de aluguel\n",
        "\n",
        "Vamos construir um programa que irá calcular o aumento anual do seu aluguel.\n",
        "\n",
        "A sua calculadora vai receber o `valor do aluguel` e calcular o aumento baseado no `IGPM de 31%`. A calculadora deve apresentar o aluguel reajustado no formato `R$ XXXX.XX`."
      ]
    },
    {
      "cell_type": "code",
      "metadata": {
        "colab": {
          "base_uri": "https://localhost:8080/"
        },
        "id": "Fm-eKrdG_mDz",
        "outputId": "393b8bfd-9a8c-48b6-ecea-17aa8d616b3f"
      },
      "source": [
        "aluguel = float(input('Digite o valor do alguel: '))\n",
        "\n",
        "igpm = 31\n",
        "aumento = (igpm/100)*aluguel\n",
        "print(f'O aluguel aumentará {(aumento):.2f} Reais, ficando {(aumento + aluguel):.2f} Reais')\n"
      ],
      "execution_count": null,
      "outputs": [
        {
          "output_type": "stream",
          "text": [
            "Digite o valor do alguel: 34232.32\n",
            "O aluguel aumentará 10612.02 Reais, ficando 44844.34 Reais\n"
          ],
          "name": "stdout"
        }
      ]
    },
    {
      "cell_type": "code",
      "metadata": {
        "id": "PUly903OAIQG"
      },
      "source": [
        ""
      ],
      "execution_count": null,
      "outputs": []
    }
  ]
}