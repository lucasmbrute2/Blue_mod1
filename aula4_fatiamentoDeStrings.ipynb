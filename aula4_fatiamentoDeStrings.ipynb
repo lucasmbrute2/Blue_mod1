{
  "nbformat": 4,
  "nbformat_minor": 0,
  "metadata": {
    "colab": {
      "name": "aula4_fatiamentoDeStrings",
      "provenance": [],
      "authorship_tag": "ABX9TyN6RP4/BU7h8xvg4h4mlRB5",
      "include_colab_link": true
    },
    "kernelspec": {
      "name": "python3",
      "display_name": "Python 3"
    },
    "language_info": {
      "name": "python"
    }
  },
  "cells": [
    {
      "cell_type": "markdown",
      "metadata": {
        "id": "view-in-github",
        "colab_type": "text"
      },
      "source": [
        "<a href=\"https://colab.research.google.com/github/lucasmbrute2/Blue_mod1/blob/main/aula4_fatiamentoDeStrings.ipynb\" target=\"_parent\"><img src=\"https://colab.research.google.com/assets/colab-badge.svg\" alt=\"Open In Colab\"/></a>"
      ]
    },
    {
      "cell_type": "markdown",
      "metadata": {
        "id": "3Lr8-bkBUn8U"
      },
      "source": [
        "01 - Considere a string A = \"Os limites só existem se você os deixar existir.(goku)\".\n",
        "\n",
        "Que fatia corresponde a (goku)?\n",
        "\n"
      ]
    },
    {
      "cell_type": "code",
      "metadata": {
        "colab": {
          "base_uri": "https://localhost:8080/"
        },
        "id": "a8U1NanyMM-C",
        "outputId": "1fded565-62d1-4e3d-cb37-c389a30b420c"
      },
      "source": [
        "string = \"Os limites só existem se você os deixar existir.(goku)\"\n",
        "\n",
        "fatia = (string[48:54])\n",
        "print(fatia)"
      ],
      "execution_count": 16,
      "outputs": [
        {
          "output_type": "stream",
          "text": [
            "(goku)\n"
          ],
          "name": "stdout"
        }
      ]
    },
    {
      "cell_type": "markdown",
      "metadata": {
        "id": "JukVKbFJUizk"
      },
      "source": [
        ""
      ]
    },
    {
      "cell_type": "code",
      "metadata": {
        "colab": {
          "base_uri": "https://localhost:8080/"
        },
        "id": "pXFSznz0K_-n",
        "outputId": "f24debfe-abe5-407d-dd91-eab08c112929"
      },
      "source": [
        "string1 = \"Sejam bem-vindos(as) à Blue!\"\n",
        "stringNum = \"0123456789\"\n",
        "print(len(string1))\n",
        "print(string1[10]) # Retorna o caracter que está na posição do índice passado (lembrando que começa do 0, e termina no \"tamanho -1\")\n",
        "print(string1[0:4]) #Retorna os caracteres do limite inferior até o \"superior -1\" (Então eu sempre vou colocar 1 a mais do que eu quero no limite superior)\n",
        "print(stringNum[0:6])\n",
        "print(string1[:8]) \n",
        "print(string1[8:])\n",
        "print()\n",
        "fatia = string1[5:]\n",
        "print(fatia)  #Aqui foi armazenado um pedaço da String, caso queira mexer depois."
      ],
      "execution_count": 8,
      "outputs": [
        {
          "output_type": "stream",
          "text": [
            "28\n",
            "v\n",
            "Seja\n",
            "012345\n",
            "Sejam be\n",
            "m-vindos(as) à Blue!\n",
            "\n",
            " bem-vindos(as) à Blue!\n"
          ],
          "name": "stdout"
        }
      ]
    },
    {
      "cell_type": "code",
      "metadata": {
        "id": "h8VSDSyGTwru"
      },
      "source": [
        ""
      ],
      "execution_count": null,
      "outputs": []
    }
  ]
}